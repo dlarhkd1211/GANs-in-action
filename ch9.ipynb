{
 "cells": [
  {
   "cell_type": "code",
   "execution_count": null,
   "metadata": {},
   "outputs": [],
   "source": [
    "from __future__ import print_function, division\n",
    "import scipy\n",
    "from tensorflow.keras.datasets import mnist\n",
    "from tensorflow.addons.layers import InstanceNormalization\n",
    "from tensorflow.keras.layers import *\n",
    "from tensorflow.keras.models import Sequential, Model\n",
    "from tensorflow.keras.optimizers import Adam\n",
    "import datetime\n",
    "import matplotlib.pyplot as plt\n",
    "import sys\n",
    "import numpy as np\n",
    "import os"
   ]
  },
  {
   "cell_type": "markdown",
   "metadata": {},
   "source": [
    "## DataLoader"
   ]
  },
  {
   "cell_type": "code",
   "execution_count": null,
   "metadata": {},
   "outputs": [],
   "source": [
    "import scipy\n",
    "import imageio\n",
    "from skimage.transform import resize\n",
    "from glob import glob\n",
    "import numpy as np\n",
    "\n",
    "class DataLoader():\n",
    "  def __init__(self, dataset_name, img_res = (128, 128)):\n",
    "    self.dataset_name = dataset_name\n",
    "    self.img_res = img_res\n",
    "\n",
    "  def load_data(self, domain, batch_size = 1, is_testing = False):\n",
    "    data_type = \"train%s\" % domain if not is_testing else \"test%s\" % domain\n",
    "    path = glob('./datasets/%s/%s/*' % (self.dataset_name, data_type))\n",
    "\n",
    "    batch_images = np.random.choice(path, size = batch_size)\n",
    "\n",
    "    imgs = []\n",
    "    for img_path in batch_images:\n",
    "      img = self.imread(img_path)\n",
    "      if not is_testing:\n",
    "        img = resize(img, self.img_res)\n",
    "\n",
    "        if np.random.random() > 0.5:\n",
    "          img = np.fliplr(img)\n",
    "      else:\n",
    "        img = resize(img, self.img_res)\n",
    "      imgs.append(img)\n",
    "\n",
    "    img = np.array(imgs) / 127.5 - 1.\n",
    "\n",
    "    return imgs\n",
    "\n",
    "  def load_batch(self, batch_size = 1, is_testing = False):\n",
    "    data_type = 'train' if not is_testing else 'val'\n",
    "    path_A = glob('./datasets/%s/%sA/*' % (self.dataset_name, data_type))\n",
    "    path_B = glob('./datasets/%s/%sB/*' % (self.dataset_name, data_type))\n",
    "\n",
    "    self.n_batches = int(min(len(path_A), len(path_B)) / batch_size)\n",
    "    total_samples = self.n_batches * batch_size\n",
    "\n",
    "    path_A = np.random.choice(path_A, total_samples, replace = False)\n",
    "    path_B = np.random.choice(path_B, total_samples, replace = False)\n",
    "\n",
    "    for i in range(self.n_batches - 1):\n",
    "      batch_A = path_A[i * batch_size : (i+1) * batch_size]\n",
    "      batch_B = path_B[i * batch_size : (i+1) * batch_size]\n",
    "      imgs_A, imgs_B = [], []\n",
    "      for img_A, img_B in zip(batch_A, batch_B):\n",
    "        img_A = self.imread(img_A)\n",
    "        img_B = self.imread(img_B)\n",
    "\n",
    "        img_A = resize(img_A, self.img_res)\n",
    "        img_B = resize(img_B, self.img_res)\n",
    "\n",
    "        if not is_testing and np.random.random() > 0.5:\n",
    "          img_A = np.fliplr(img_A)\n",
    "          img_B = np.fliplr(img_B)\n",
    "\n",
    "        imgs_A.append(img_A)\n",
    "        imgs_B.append(img_B)\n",
    "\n",
    "      imgs_A = np.array(imgs_A) / 127.5 - 1.\n",
    "      imgs_B = np.array(imgs_B) / 127.5 - 1.\n",
    "\n",
    "      yield imgs_A, imgs_B\n",
    "\n",
    "  def imread(self, path):\n",
    "    return imageio.imread(path, pilmode = 'RGB').astype(np.float)"
   ]
  },
  {
   "cell_type": "markdown",
   "metadata": {},
   "source": [
    "## CycleGAN 정의"
   ]
  },
  {
   "cell_type": "code",
   "execution_count": null,
   "metadata": {},
   "outputs": [],
   "source": [
    "class CycleGAN():\n",
    "  def __init__(self):\n",
    "    self.img_rows = 28\n",
    "    self.img_cols = 28\n",
    "    self.channels = 1\n",
    "    self.img_shape = (self.img_rows, self.img_cols, self.channels)\n",
    "\n",
    "    self.dataset_name = 'apple2ornage'\n",
    "    self.data_loader = DataLoader(dataset_name = self.dataset_name, img_res = (self.img_rows, self.img_cols))\n",
    "\n",
    "    # D(PatchGAN)의 출력 크기 계산\n",
    "    patch = int(self.img_rows / 2 ** 4)\n",
    "    self.disc_patch = (patch, patch, 1)\n",
    "    '''\n",
    "    patch Check\n",
    "    '''\n",
    "    # G와 D의 첫 번재 층에 있는 필터의 개수\n",
    "    self.gf = 32\n",
    "    self.df = 64\n",
    "\n",
    "    #손실 가중치\n",
    "    self.lambda_cycle = 10.0 #Cycle-consistency loss\n",
    "    self.lambda_id = 0.9 * self.lambda_cycle #identity loss\n",
    "\n",
    "    optimizer = Adam(0.0002, 0.5)\n",
    "\n",
    "    # 판별자 compile\n",
    "    self.d_A = self.build_discriminator()\n",
    "    self.d_B = self.build_discriminator()\n",
    "    self.d_A.compile(loss = 'mse', optimizer = optimizer, metrics = ['accuracy'])\n",
    "    self.d_B.compile(loss = 'mse', optimizer = optimizer, metrics = ['accuracy'])\n",
    "\n",
    "    #생성자\n",
    "\n",
    "    self.g_AB = self.build_generator()\n",
    "    self.g_BA = self.build_generator()\n",
    "\n",
    "    img_A = Input(shape = self.img_shape)\n",
    "    img_B = Input(shape = self.img_shape)\n",
    "\n",
    "    fake_B = self.g_AB(img_A)\n",
    "    fake_A = self.g_BA(img_B)\n",
    "\n",
    "    reconstr_A = self.g_BA(fake_B)\n",
    "    reconstr_B = self.g_AB(fake_A)\n",
    "\n",
    "    img_A_id = self.g_BA(img_A)\n",
    "    img_B_id = self.g_AB(img_B)\n",
    "\n",
    "    self.d_A.trainable = False\n",
    "    self.d_B.trainable = False\n",
    "\n",
    "    # 변환된 이미지 판별\n",
    "    valid_A = self.d_A(fake_A)\n",
    "    valid_B = self.d_B(fake_B)\n",
    "\n",
    "    self.conbined = Model(inputs = [img_A, img_B], outputs = [valid_A, valid_B, \\\n",
    "      reconstr_A, reconstr_B, img_A_id, img_B_id])\n",
    "\n",
    "    self.combined.compile(loss = ['mse','mse','mae','mae','mae','mae'], loss_weights = [1, 1, \\\n",
    "      self.lambda_cycle, self.lambda_cycle, self.lambda_id, self.lambda_id], optimizer = optimizer)\n"
   ]
  },
  {
   "cell_type": "markdown",
   "metadata": {},
   "source": [
    "### 정적 메서드"
   ]
  },
  {
   "cell_type": "code",
   "execution_count": null,
   "metadata": {},
   "outputs": [],
   "source": [
    "class CycleGAN(CycleGAN):\n",
    "  @staticmethod\n",
    "  def conv2d(layer_inputm filters, f_size = 4, normaliztion = True):\n",
    "    d = Conv2D(filters, kernel_size = f_size, strides = 2, padding = 'same')(layer_input)\n",
    "    d = LeakyReLU(alpha = 0.2)(d)\n",
    "    if normalization:\n",
    "      d = InstanceNormalization()(d)\n",
    "\n",
    "    return d\n",
    "\n",
    "  @staticmethod\n",
    "  def deconv2d(layer_input, skip_input, filters, f_size ,dropout_rate = 0):\n",
    "    u = UpSampling2D(size = 2)(layer_input)\n",
    "    u = Conv2D(filters, kernel_size = f_size mstrides = 1, padding = 'same', activation = 'relu')(u)\n",
    "    if dropout_rate:\n",
    "      u = Dropout(dropout_rate)(u)\n",
    "\n",
    "    u = InstanceNormalization()(u)\n",
    "    u = Concatenate()([u, skip_input])\n",
    "    return u\n",
    "  "
   ]
  },
  {
   "cell_type": "markdown",
   "metadata": {},
   "source": [
    "## 생성자"
   ]
  },
  {
   "cell_type": "code",
   "execution_count": null,
   "metadata": {},
   "outputs": [],
   "source": [
    "class CycleGAN(CycleGAN):\n",
    "  def build_generator(self):\n",
    "    #U-Net\n",
    "    d0 = Input(shape = self.img_shape)\n",
    "    d1 = self.conv2d(d0, self.gf)\n",
    "    d2 = self.conv2d(d1, self.gf * 2)\n",
    "    d3 = self.conv2d(d2, self.gf * 4)\n",
    "    d4 = self.conv2d(d3, self.gf * 8)\n",
    "\n",
    "    u1 = self.deconv2d(d4, d3, self.gf * 4)\n",
    "    u2 = self.deconv2d(u1, d2, self.gf * 2)\n",
    "    u3 = self.deconv2d(u2, d1, self.gf)\n",
    "\n",
    "    u4 = UpSampling2D(size = 2)(u3)\n",
    "    output_img = Conv2D(self.channels, kernel_size = 4, strides = 1, padding = 'same', activation = 'tanh')(u4)\n",
    "\n",
    "    return Model(d0, output_img)"
   ]
  },
  {
   "cell_type": "markdown",
   "metadata": {},
   "source": [
    "## 판별자"
   ]
  },
  {
   "cell_type": "code",
   "execution_count": null,
   "metadata": {},
   "outputs": [],
   "source": [
    "class CycleGAN(CycleGAN):\n",
    "  def build_discriminator(self):\n",
    "    img = Input(shaep = self.img_shape)\n",
    "\n",
    "    d1 = self.conv2d(img, self.df, normalization = False)\n",
    "    d2 = self.conv2d(d1, self.df * 2)\n",
    "    d3 = self.conv2d(d2, self.df * 4)\n",
    "    d4 = self.conv2d(D3, self.df * 8)\n",
    "\n",
    "    validity = Conv2D(1, kernel_size = 4, strides = 1, padding = 'same')\n",
    "\n",
    "    return Model(img, validity)"
   ]
  },
  {
   "cell_type": "markdown",
   "metadata": {},
   "source": [
    "## 샘플링 함수"
   ]
  },
  {
   "cell_type": "code",
   "execution_count": null,
   "metadata": {},
   "outputs": [],
   "source": [
    "class CycleGAN(CycleGAN):\n",
    "  def sample_images(self, epoch, batch_i):\n",
    "    r, c = 2, 3\n",
    "\n",
    "    imgs_A = self.data_loader.load_data(domain = 'A', batch_size=1, is_testing=True)\n",
    "    imgs_B = self.data_loader.load_data(domain = 'B', batch_size=1, is_testing=True)\n",
    "\n",
    "    fake_B = self.g_AB.predict(imgs_A)\n",
    "    fake_A = self.g_BA.predict(imgs_B)\n",
    "\n",
    "    reconstr_A = self.g_BA.predict(fake_B)\n",
    "    reconstr_B = self.g_AB.predict(fake_A)\n",
    "    \n",
    "    gen_imgs = np.concatenate([imgs_A, fake_B, reconstr_A, imgs_B, fake_A, reconstr_B])\n",
    "\n",
    "    gen_imgs = 0.5 * gen_imgs + 0.5\n",
    "\n",
    "    titles = ['Original','Translated','Reconstrcted']\n",
    "    fig, axs = plt.subplot(r, c)\n",
    "    cnt = 0\n",
    "\n",
    "    for i in range(r):\n",
    "      for j in range(c):\n",
    "        axs[i, j].imshow(gen_imgs[cnt])\n",
    "        axs[i, j].set_title(titles[j])\n",
    "        axs[i, j].axis('off')\n",
    "        cnt += 1\n",
    "\n",
    "    fig.savefig('images/%s/%d_%d.png' % (self.dataset_name, epoch, batch_i))\n",
    "    plt.show()"
   ]
  },
  {
   "cell_type": "markdown",
   "metadata": {},
   "source": [
    "## 학습"
   ]
  },
  {
   "cell_type": "code",
   "execution_count": null,
   "metadata": {},
   "outputs": [],
   "source": [
    "class CycleGAN(CycleGAN):\n",
    "  def train(self, epochs, batch_size = 1, sample_interval = 50):\n",
    "    valid = np.ones((batch_size,) + self.disc_patch)\n",
    "    fake = np.zeors((batch_size,) + self.disc_patch)\n",
    "\n",
    "    for epoch in range(epochs):\n",
    "      for batch_i, (imgs_A, imgs_B) in enumerate(self.data_loader.load_batch(batch_size)):\n",
    "        fake_B = self.g_AB.predict(imgs_A)\n",
    "        fake_A = self.g_BA.predict(imgs_B)\n",
    "\n",
    "        dA_loss_real = self.d_A.train_on_batch(imgs_A, valid)\n",
    "        dA_loss_fake = self.d_A.train_on_batch(fake_A, fake)\n",
    "        dA_loss = 0.5 * np.add(dA_loss_real, dA_loss_fake)\n",
    "\n",
    "        dB_loss_real = self.d_B.train_on_batch(imgs_B, valid)\n",
    "        dB_loss_fake = self.d_B.train_on_batch(fake_B, fake)\n",
    "        dB_loss = 0.5 * np.add(dB_loss_real, dB_loss_fake)\n",
    "\n",
    "        d_loss = 0.5 * np.add(dA_loss, dB_loss)\n",
    "\n",
    "        g_loss = self.conbined.train_on_batch([imgs_A, imgs_B],\\\n",
    "          [valid, valid, imgs_A, imgs_B, imgs_A, imgs_B])\n",
    "\n",
    "          if batch_i % sample_interval == 0:\n",
    "            self.sample_images(epoch, batch_i)"
   ]
  },
  {
   "cell_type": "code",
   "execution_count": null,
   "metadata": {},
   "outputs": [],
   "source": [
    "cycle_gan = CycleGAN()\n",
    "cyclegan.train(epochs = 100, batch_size = 64, sample_interval = 10)"
   ]
  },
  {
   "cell_type": "code",
   "execution_count": null,
   "metadata": {},
   "outputs": [],
   "source": []
  },
  {
   "cell_type": "markdown",
   "metadata": {},
   "source": []
  },
  {
   "cell_type": "code",
   "execution_count": null,
   "metadata": {},
   "outputs": [],
   "source": []
  },
  {
   "cell_type": "code",
   "execution_count": null,
   "metadata": {},
   "outputs": [],
   "source": []
  },
  {
   "cell_type": "code",
   "execution_count": null,
   "metadata": {},
   "outputs": [],
   "source": []
  },
  {
   "cell_type": "code",
   "execution_count": null,
   "metadata": {},
   "outputs": [],
   "source": []
  },
  {
   "cell_type": "code",
   "execution_count": null,
   "metadata": {},
   "outputs": [],
   "source": []
  },
  {
   "cell_type": "code",
   "execution_count": null,
   "metadata": {},
   "outputs": [],
   "source": []
  },
  {
   "cell_type": "code",
   "execution_count": null,
   "metadata": {},
   "outputs": [],
   "source": []
  }
 ],
 "metadata": {
  "language_info": {
   "name": "python"
  },
  "orig_nbformat": 4
 },
 "nbformat": 4,
 "nbformat_minor": 2
}
