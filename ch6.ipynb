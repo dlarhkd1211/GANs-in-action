{
 "cells": [
  {
   "cell_type": "code",
   "execution_count": 1,
   "metadata": {},
   "outputs": [],
   "source": [
    "import tensorflow as tf\n",
    "import tensorflow.keras as K"
   ]
  },
  {
   "cell_type": "code",
   "execution_count": 2,
   "metadata": {},
   "outputs": [],
   "source": [
    "def upscale_layer(layer, upscale_factor):\n",
    "  '''\n",
    "  upscale_factor 만큼 층(tensor)을 업스케일\n",
    "  tensor 크기는 [group, height, weight, channels]\n",
    "  '''\n",
    "  height, width = layer.get_shape()[1:3]\n",
    "  size = (upscale_factor * height, upscale_factor * width)\n",
    "  upscaled_layer = tf.image.resize_nearest_neighbor(layer, size) #최근접 이웃 보간을 사용하여 resize\n",
    "  return upscaled_layer"
   ]
  },
  {
   "cell_type": "code",
   "execution_count": 3,
   "metadata": {},
   "outputs": [],
   "source": [
    "def smoothly_merge_last_layer(list_of_layers, alpha):\n",
    "  '''\n",
    "  임곗값 알파를 기반으로 층을 부드럽게 합침\n",
    "  모든 층이 RGB로 바뀌었다고 가정\n",
    "  생성자를 위한 함수\n",
    "  list_of_layers : 해상도 순서대로 정렬된 텐서 리스트\n",
    "  alpha : 0~1 사이의 실수\n",
    "  '''\n",
    "\n",
    "  last_fully_trained_layer = list_of_layers[-2]\n",
    "  # 업스케일링을 위해 끝에서 두 번째 층 선택\n",
    "  last_layer_upscaled = upscale_layer(last_fully_trained_layer, 2)\n",
    "  # 마지막으로 훈련된 층을 업스케일링\n",
    "  larger_native_layer = list_of_layers[-1]\n",
    "  # 새로 추가된 층은 아직 완전히 훈련되지 않음\n",
    "\n",
    "  assert larger_native_layer.get_shape() == last_layer_upscaled.get_shape()\n",
    "  #합치기 전 층 크기가 같은지 확인\n",
    "  new_layer = (1-alpha) * last_layer_upscaled + alpha * larger_native_layer\n",
    "  # 곱셈은 브로드캐스팅되어 수행\n",
    "  return new_layer"
   ]
  },
  {
   "cell_type": "code",
   "execution_count": null,
   "metadata": {},
   "outputs": [],
   "source": []
  }
 ],
 "metadata": {
  "interpreter": {
   "hash": "ab6ef7d30b2307f9e5067df8dec7754da23bde4fe608b6506c24ecf96ad03ce6"
  },
  "kernelspec": {
   "display_name": "Python 3.7.13 ('gan')",
   "language": "python",
   "name": "python3"
  },
  "language_info": {
   "codemirror_mode": {
    "name": "ipython",
    "version": 3
   },
   "file_extension": ".py",
   "mimetype": "text/x-python",
   "name": "python",
   "nbconvert_exporter": "python",
   "pygments_lexer": "ipython3",
   "version": "3.7.13"
  },
  "orig_nbformat": 4
 },
 "nbformat": 4,
 "nbformat_minor": 2
}
