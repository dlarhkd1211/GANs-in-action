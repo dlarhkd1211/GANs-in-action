{
 "cells": [
  {
   "cell_type": "code",
   "execution_count": 1,
   "metadata": {},
   "outputs": [],
   "source": [
    "%matplotlib inline\n",
    "import matplotlib.pyplot as plt\n",
    "import numpy as np\n",
    "\n",
    "from tensorflow.keras import backend as K\n",
    "\n",
    "from tensorflow.keras.datasets import mnist\n",
    "from tensorflow.keras.layers import *\n",
    "from tensorflow.keras.models import Model, Sequential\n",
    "from tensorflow.keras.optimizers import Adam\n",
    "from tensorflow.keras.utils import to_categorical"
   ]
  },
  {
   "cell_type": "code",
   "execution_count": 2,
   "metadata": {},
   "outputs": [],
   "source": [
    "img_rows = 28\n",
    "img_cols = 28\n",
    "channels = 1\n",
    "\n",
    "img_shape = (img_rows, img_cols, channels)\n",
    "\n",
    "z_dim = 100\n",
    "num_classes = 10"
   ]
  },
  {
   "cell_type": "markdown",
   "metadata": {},
   "source": [
    "일부 데이터만 레이블을 사용하고 나머지는 레이블이 없는것으로 간주"
   ]
  },
  {
   "cell_type": "code",
   "execution_count": 3,
   "metadata": {},
   "outputs": [],
   "source": [
    "class Dataset:\n",
    "  def __init__(self,num_labeled):\n",
    "    self.num_labeled = num_labeled #훈련에 사용할 레이블된 샘플 개수\n",
    "    (self.x_train, self.y_train), (self.x_test, self.y_test) = mnist.load_data()\n",
    "\n",
    "    def preprocess_imgs(x):\n",
    "      x = (x.astype(np.float32) - 127.5) / 127.5\n",
    "      x = np.expand_dims(x,axis= 3)\n",
    "      return x\n",
    "\n",
    "    def preprocess_labels(y):\n",
    "      return y.reshape(-1, 1)\n",
    "\n",
    "    self.x_train = preprocess_imgs(self.x_train)\n",
    "    self.y_train = preprocess_labels(self.y_train)\n",
    "\n",
    "    self.x_test = preprocess_imgs(self.x_test)\n",
    "    self.y_test = preprocess_labels(self.y_test)\n",
    "\n",
    "  def batch_labeled(self, batch_size):\n",
    "    idx = np.random.randint(0, self.num_labeled, batch_size)\n",
    "    imgs = self.x_train[idx]\n",
    "    labels = self.y_train[idx]\n",
    "    return imgs, labels\n",
    "\n",
    "  def batch_unlabeled(self, batch_size):\n",
    "    idx = np.random.randint(self.num_labeled, self.x_train.shape[0], batch_size)\n",
    "    imgs = self.x_train[idx]\n",
    "\n",
    "    return imgs\n",
    "\n",
    "  def training_set(self):\n",
    "    x_train = self.x_train[range(self.num_labeled)]\n",
    "    y_train = self.y_train[range(self.num_labeled)]\n",
    "    return x_train, y_train\n",
    "\n",
    "  def test_set(self):\n",
    "    return self.x_test, self.y_test"
   ]
  },
  {
   "cell_type": "markdown",
   "metadata": {},
   "source": [
    "label된 이미지 100개만 사용"
   ]
  },
  {
   "cell_type": "code",
   "execution_count": 4,
   "metadata": {},
   "outputs": [],
   "source": [
    "num_labeled = 100\n",
    "\n",
    "dataset = Dataset(num_labeled)"
   ]
  },
  {
   "cell_type": "markdown",
   "metadata": {},
   "source": [
    "### Generator"
   ]
  },
  {
   "cell_type": "code",
   "execution_count": 5,
   "metadata": {},
   "outputs": [],
   "source": [
    "def build_generator(z_dim): #DCGAN과 동일\n",
    "  model = Sequential()\n",
    "  model.add(Dense(256 * 7 * 7, input_dim = z_dim))\n",
    "  model.add(Reshape((7, 7, 256)))\n",
    "  model.add(Conv2DTranspose(128, kernel_size = 3, strides = 2, padding ='same'))\n",
    "  model.add(BatchNormalization())\n",
    "  model.add(LeakyReLU(alpha = 0.01))\n",
    "  model.add(Conv2DTranspose(64, kernel_size = 3, strides = 1, padding ='same'))\n",
    "  model.add(BatchNormalization())\n",
    "  model.add(LeakyReLU(alpha = 0.01))\n",
    "  model.add(Conv2DTranspose(1, kernel_size =3, strides = 2, padding ='same'))\n",
    "  model.add(Activation('tanh'))\n",
    "  return model"
   ]
  },
  {
   "cell_type": "markdown",
   "metadata": {},
   "source": [
    "### Discriminator"
   ]
  },
  {
   "cell_type": "markdown",
   "metadata": {},
   "source": [
    "진짜와 가짜 구별을 위한 판별, 진짜일 경우 레이블 판별"
   ]
  },
  {
   "cell_type": "code",
   "execution_count": 6,
   "metadata": {},
   "outputs": [],
   "source": [
    "def build_discriminator_net(img_shape):\n",
    "  model = Sequential()\n",
    "  model.add(Conv2D(32, kernel_size = 3, strides = 2, padding ='same', input_shape = img_shape))\n",
    "  model.add(LeakyReLU(alpha = 0.01))\n",
    "\n",
    "  model.add(Conv2D(64, kernel_size = 3, strides = 2, padding = 'same'))\n",
    "  model.add(LeakyReLU(alpha = 0.01))\n",
    "\n",
    "  model.add(Conv2D(128, kernel_size = 3, strides = 2, padding = 'same'))\n",
    "  model.add(LeakyReLU(alpha = 0.01))\n",
    "\n",
    "  model.add(Dropout(0.5))\n",
    "  model.add(Flatten())\n",
    "  model.add(Dense(num_classes))\n",
    "\n",
    "  return model"
   ]
  },
  {
   "cell_type": "markdown",
   "metadata": {},
   "source": [
    "10개의 뉴런을 가진 fully-connected layer로 끝남. 다음 두 개의 판별차 출력을 계산하는 신경망을 정의해야함\n",
    "\n",
    "하나는 지도 학습(다중 분류), 하나는 비지도 학습(이진 분류)"
   ]
  },
  {
   "cell_type": "code",
   "execution_count": 7,
   "metadata": {},
   "outputs": [],
   "source": [
    "def build_discriminator_supervised(discriminator_net):\n",
    "  model = Sequential()\n",
    "  model.add(discriminator_net)\n",
    "  model.add(Activation('softmax'))\n",
    "  return model"
   ]
  },
  {
   "cell_type": "code",
   "execution_count": 8,
   "metadata": {},
   "outputs": [],
   "source": [
    "def build_discriminator_unsupervised(discriminator_net):\n",
    "  model = Sequential()\n",
    "  model.add(discriminator_net)\n",
    "  \n",
    "  def predict(x):\n",
    "    prediction = 1.0 - (1.0 / (K.sum(K.exp(x), axis = -1, keepdims = True) + 1.0))\n",
    "    #진짜 클래스에 대한 확률 분포를 진짜 대 가짜의 이진 확률로 변환\n",
    "    return prediction\n",
    "\n",
    "  model.add(Lambda(predict))\n",
    "\n",
    "  return model"
   ]
  },
  {
   "cell_type": "code",
   "execution_count": 9,
   "metadata": {},
   "outputs": [],
   "source": [
    "def build_gan(generator, discriminator):\n",
    "  model = Sequential()\n",
    "  model.add(generator)\n",
    "  model.add(discriminator)\n",
    "  return model\n",
    "\n",
    "discriminator_net = build_discriminator_net(img_shape)\n",
    "# 판별자 기반 모델, 지도 비지도 학습에 모두 공유\n",
    "discriminator_supervised = build_discriminator_supervised(discriminator_net)\n",
    "discriminator_supervised.compile(loss = 'categorical_crossentropy', metrics = ['accuracy'], optimizer = Adam(learning_rate = 0.0003))\n",
    "\n",
    "discriminator_unsupervised = build_discriminator_unsupervised(discriminator_net)\n",
    "discriminator_unsupervised.compile(loss = 'binary_crossentropy',  optimizer = Adam())\n",
    "\n",
    "generator = build_generator(z_dim)\n",
    "\n",
    "discriminator_unsupervised.trainable = False\n",
    "\n",
    "gan = build_gan(generator, discriminator_unsupervised)\n",
    "gan.compile(loss = 'binary_crossentropy', optimizer = Adam())\n",
    "#생성자 훈련을 위해 비지도 학습용 판별자 사용"
   ]
  },
  {
   "cell_type": "markdown",
   "metadata": {},
   "source": [
    "## SGAN 훈련 알고리즘"
   ]
  },
  {
   "cell_type": "markdown",
   "metadata": {},
   "source": [
    "1. (지도학습) 판별자 훈련\n",
    "- 레이블된 진짜 샘플 (x, y)의 랜덤 미니배치를 얻음\n",
    "- 주어진 미니배치에 대한 D((x, y))를 계산하고 다중 분류 손실을 역전파하여 판별자의 파라미터를 업데이트하고 손실을 최소화\n",
    "2. (비지도학습) 판별자 훈련\n",
    "- 레이블이 없는 진짜 샘플 x의 랜덤 미니배치를 얻음\n",
    "- 주어진 미니배치에 대한 D(x)를 계산하고 이진 분류 손실을 역전파하여 판별자의 파라미터를 업데이트하고 손실을 최소화\n",
    "- 랜덤한 벡터 z의 미니배치를 얻어 가짜 샘플 G(z) = x*의 미니배치 생성\n",
    "- 주어진 미니배치에 대한 D(x*)를 계산하고 이진 분류 손실을 역전파하여 판별자의 파라미터를 업데이트하고 손실을 최소화\n",
    "3. 생성자 훈련\n",
    "- 랜덤한 벡터 z의 미니배치를 얻어 가짜 샘플 G(z) = x*의 미니배치 생성\n",
    "- 주어진 미니배치에 대한 D(x*)를 계산하고 이진 분류 손실을 역전파하여 생성자의 파라미터를 업데이트하고 손실을 최대화"
   ]
  },
  {
   "cell_type": "code",
   "execution_count": 10,
   "metadata": {},
   "outputs": [],
   "source": [
    "supervised_losses = []\n",
    "iteration_checkpoint = []\n",
    "\n",
    "def train(iterations, batch_size, sample_interval):\n",
    "  real = np.ones((batch_size, 1))\n",
    "  fake = np.zeros((batch_size, 1))\n",
    "\n",
    "  for iteration in range(iterations):\n",
    "    imgs, labels = dataset.batch_labeled(batch_size)\n",
    "    labels = to_categorical(labels, num_classes = num_classes) #label 원핫인코딩\n",
    "    imgs_unlabeled = dataset.batch_unlabeled(batch_size)\n",
    "\n",
    "    z = np.random.normal(0, 1, (batch_size, z_dim))\n",
    "    gen_imgs = generator.predict(z)\n",
    "\n",
    "    d_loss_supervised, accuracy = discriminator_supervised.train_on_batch(imgs, labels)\n",
    "\n",
    "    d_loss_real = discriminator_unsupervised.train_on_batch(imgs_unlabeled, labels, real)\n",
    "\n",
    "    d_loss_fake = discriminator_unsupervised.train_on_batch(gen_imgs, fake)\n",
    "    \n",
    "    d_loss_unsupervised =0.5 * np.add(d_loss_real, d_loss_fake)\n",
    "\n",
    "    z = np.random.normal(0, 1, (batch_size, z_dim))\n",
    "    gen_imgs = generator.predict(z)\n",
    "\n",
    "    g_loss = gan.train_on_batch(z, np.ones((batch_size, 1)))\n",
    "\n",
    "    if (iteration + 1) % sample_interval == 0:\n",
    "      supervised_losses.append(d_loss_supervised)\n",
    "      iteration_checkpoint.append(iteration + 1)\n",
    "\n",
    "      print(\"%d [D loss supervised: %.4f, acc.: %.2f%%] [D loss unsupervised: %.4f] [G loss: %f]\"\n",
    "                % (iteration + 1, d_loss_supervised, 100 * accuracy,\n",
    "                d_loss_unsupervised, g_loss))"
   ]
  },
  {
   "cell_type": "markdown",
   "metadata": {},
   "source": [
    "### 훈련"
   ]
  },
  {
   "cell_type": "code",
   "execution_count": 11,
   "metadata": {},
   "outputs": [
    {
     "name": "stdout",
     "output_type": "stream",
     "text": [
      "800 [D loss supervised: 0.1423, acc.: 100.00%] [D loss unsupervised: 0.2023] [G loss: 3.863817]\n",
      "1600 [D loss supervised: 0.0787, acc.: 100.00%] [D loss unsupervised: 0.1976] [G loss: 3.684334]\n",
      "2400 [D loss supervised: 0.2394, acc.: 96.88%] [D loss unsupervised: 0.2063] [G loss: 3.141531]\n",
      "3200 [D loss supervised: 0.1775, acc.: 100.00%] [D loss unsupervised: 0.2160] [G loss: 3.398209]\n",
      "4000 [D loss supervised: 0.1260, acc.: 100.00%] [D loss unsupervised: 0.2028] [G loss: 3.692574]\n",
      "4800 [D loss supervised: 0.1266, acc.: 100.00%] [D loss unsupervised: 0.1998] [G loss: 3.398456]\n",
      "5600 [D loss supervised: 0.1052, acc.: 100.00%] [D loss unsupervised: 0.1978] [G loss: 3.388687]\n",
      "6400 [D loss supervised: 0.0788, acc.: 100.00%] [D loss unsupervised: 0.2019] [G loss: 3.264758]\n",
      "7200 [D loss supervised: 0.1468, acc.: 100.00%] [D loss unsupervised: 0.2055] [G loss: 3.321224]\n",
      "8000 [D loss supervised: 0.1160, acc.: 100.00%] [D loss unsupervised: 0.2018] [G loss: 3.455231]\n"
     ]
    }
   ],
   "source": [
    "iterations = 8000\n",
    "batch_size = 32\n",
    "sample_interval = 800\n",
    "\n",
    "train(iterations, batch_size, sample_interval)"
   ]
  },
  {
   "cell_type": "code",
   "execution_count": 13,
   "metadata": {},
   "outputs": [
    {
     "data": {
      "image/png": "[encoded data removed]",
      "text/plain": [
       "<Figure size 1080x360 with 1 Axes>"
      ]
     },
     "metadata": {
      "needs_background": "light"
     },
     "output_type": "display_data"
    }
   ],
   "source": [
    "losses = np.array(supervised_losses)\n",
    "\n",
    "plt.figure(figsize=(15, 5))\n",
    "plt.plot(iteration_checkpoint, losses, label=\"Discriminator loss\")\n",
    "\n",
    "plt.xticks(iteration_checkpoint, rotation=90)\n",
    "\n",
    "plt.title(\"Discriminator – Supervised Loss\")\n",
    "plt.xlabel(\"Iteration\")\n",
    "plt.ylabel(\"Loss\")\n",
    "plt.legend()\n",
    "plt.show()"
   ]
  },
  {
   "cell_type": "markdown",
   "metadata": {},
   "source": [
    "### 정확도 체크"
   ]
  },
  {
   "cell_type": "code",
   "execution_count": 14,
   "metadata": {},
   "outputs": [
    {
     "name": "stdout",
     "output_type": "stream",
     "text": [
      "313/313 [==============================] - 2s 6ms/step - loss: 1.0486 - accuracy: 0.6905\n",
      "테스트 정확도 : 69.05%\n"
     ]
    }
   ],
   "source": [
    "x ,y = dataset.test_set()\n",
    "y = to_categorical(y, num_classes =num_classes)\n",
    "\n",
    "_, accuracy = discriminator_supervised.evaluate(x, y)\n",
    "print('테스트 정확도 : %.2f%%' % (100 * accuracy))"
   ]
  },
  {
   "cell_type": "markdown",
   "metadata": {},
   "source": [
    "### 완전한 지도 학습 분류기와 비교"
   ]
  },
  {
   "cell_type": "code",
   "execution_count": 15,
   "metadata": {},
   "outputs": [],
   "source": [
    "# SGAN 판별자와 같은 네트워크 구조를 가진 지도 학습 분류기\n",
    "mnist_classifier = build_discriminator_supervised(build_discriminator_net(img_shape))\n",
    "mnist_classifier.compile(loss='categorical_crossentropy',\n",
    "                         metrics=['accuracy'],\n",
    "                         optimizer=Adam())"
   ]
  },
  {
   "cell_type": "code",
   "execution_count": 16,
   "metadata": {},
   "outputs": [
    {
     "name": "stdout",
     "output_type": "stream",
     "text": [
      "Epoch 1/30\n",
      "4/4 [==============================] - 1s 51ms/step - loss: 2.2972 - accuracy: 0.1100\n",
      "Epoch 2/30\n",
      "4/4 [==============================] - 0s 8ms/step - loss: 2.2025 - accuracy: 0.2200\n",
      "Epoch 3/30\n",
      "4/4 [==============================] - 0s 9ms/step - loss: 2.1001 - accuracy: 0.2900\n",
      "Epoch 4/30\n",
      "4/4 [==============================] - 0s 10ms/step - loss: 1.9652 - accuracy: 0.3300\n",
      "Epoch 5/30\n",
      "4/4 [==============================] - 0s 10ms/step - loss: 1.7862 - accuracy: 0.4500\n",
      "Epoch 6/30\n",
      "4/4 [==============================] - 0s 9ms/step - loss: 1.6409 - accuracy: 0.4200\n",
      "Epoch 7/30\n",
      "4/4 [==============================] - 0s 9ms/step - loss: 1.3706 - accuracy: 0.6300\n",
      "Epoch 8/30\n",
      "4/4 [==============================] - 0s 9ms/step - loss: 1.1645 - accuracy: 0.7100\n",
      "Epoch 9/30\n",
      "4/4 [==============================] - 0s 9ms/step - loss: 0.8618 - accuracy: 0.7900\n",
      "Epoch 10/30\n",
      "4/4 [==============================] - 0s 9ms/step - loss: 0.6386 - accuracy: 0.8000\n",
      "Epoch 11/30\n",
      "4/4 [==============================] - 0s 9ms/step - loss: 0.5155 - accuracy: 0.8900\n",
      "Epoch 12/30\n",
      "4/4 [==============================] - 0s 10ms/step - loss: 0.4062 - accuracy: 0.9000\n",
      "Epoch 13/30\n",
      "4/4 [==============================] - 0s 9ms/step - loss: 0.3728 - accuracy: 0.8700\n",
      "Epoch 14/30\n",
      "4/4 [==============================] - 0s 9ms/step - loss: 0.2859 - accuracy: 0.9200\n",
      "Epoch 15/30\n",
      "4/4 [==============================] - 0s 12ms/step - loss: 0.2620 - accuracy: 0.9000\n",
      "Epoch 16/30\n",
      "4/4 [==============================] - 0s 9ms/step - loss: 0.2737 - accuracy: 0.9100\n",
      "Epoch 17/30\n",
      "4/4 [==============================] - 0s 9ms/step - loss: 0.1845 - accuracy: 0.9600\n",
      "Epoch 18/30\n",
      "4/4 [==============================] - 0s 9ms/step - loss: 0.2191 - accuracy: 0.9300\n",
      "Epoch 19/30\n",
      "4/4 [==============================] - 0s 9ms/step - loss: 0.1495 - accuracy: 0.9700\n",
      "Epoch 20/30\n",
      "4/4 [==============================] - 0s 10ms/step - loss: 0.1653 - accuracy: 0.9500\n",
      "Epoch 21/30\n",
      "4/4 [==============================] - 0s 9ms/step - loss: 0.1284 - accuracy: 0.9600\n",
      "Epoch 22/30\n",
      "4/4 [==============================] - 0s 9ms/step - loss: 0.1187 - accuracy: 0.9800\n",
      "Epoch 23/30\n",
      "4/4 [==============================] - 0s 9ms/step - loss: 0.0944 - accuracy: 0.9800\n",
      "Epoch 24/30\n",
      "4/4 [==============================] - 0s 9ms/step - loss: 0.0837 - accuracy: 0.9900\n",
      "Epoch 25/30\n",
      "4/4 [==============================] - 0s 9ms/step - loss: 0.0537 - accuracy: 0.9900\n",
      "Epoch 26/30\n",
      "4/4 [==============================] - 0s 9ms/step - loss: 0.0932 - accuracy: 0.9800\n",
      "Epoch 27/30\n",
      "4/4 [==============================] - 0s 9ms/step - loss: 0.0604 - accuracy: 0.9900\n",
      "Epoch 28/30\n",
      "4/4 [==============================] - 0s 9ms/step - loss: 0.0615 - accuracy: 0.9900\n",
      "Epoch 29/30\n",
      "4/4 [==============================] - 0s 10ms/step - loss: 0.0438 - accuracy: 1.0000\n",
      "Epoch 30/30\n",
      "4/4 [==============================] - 0s 11ms/step - loss: 0.0392 - accuracy: 1.0000\n"
     ]
    }
   ],
   "source": [
    "imgs, labels = dataset.training_set()\n",
    "\n",
    "# 레이블을 원-핫 인코딩합니다.\n",
    "labels = to_categorical(labels, num_classes=num_classes)\n",
    "\n",
    "# 분류기를 훈련합니다.\n",
    "training = mnist_classifier.fit(x=imgs,\n",
    "                                y=labels,\n",
    "                                batch_size=32,\n",
    "                                epochs=30,\n",
    "                                verbose=1)\n",
    "losses = training.history['loss']\n",
    "accuracies = training.history['accuracy']"
   ]
  },
  {
   "cell_type": "code",
   "execution_count": 17,
   "metadata": {},
   "outputs": [
    {
     "data": {
      "image/png": "[encoded data removed]",
      "text/plain": [
       "<Figure size 720x360 with 1 Axes>"
      ]
     },
     "metadata": {
      "needs_background": "light"
     },
     "output_type": "display_data"
    }
   ],
   "source": [
    "# 분류 손실을 그립니다\n",
    "plt.figure(figsize=(10, 5))\n",
    "plt.plot(np.array(losses), label=\"Loss\")\n",
    "plt.title(\"Classification Loss\")\n",
    "plt.legend()\n",
    "plt.show()"
   ]
  },
  {
   "cell_type": "code",
   "execution_count": 18,
   "metadata": {},
   "outputs": [
    {
     "data": {
      "image/png": "[encoded data removed]",
      "text/plain": [
       "<Figure size 720x360 with 1 Axes>"
      ]
     },
     "metadata": {
      "needs_background": "light"
     },
     "output_type": "display_data"
    }
   ],
   "source": [
    "# 분류 정확도를 그립니다.\n",
    "plt.figure(figsize=(10, 5))\n",
    "plt.plot(np.array(accuracies), label=\"Accuracy\")\n",
    "plt.title(\"Classification Accuracy\")\n",
    "plt.legend()\n",
    "plt.show()"
   ]
  },
  {
   "cell_type": "code",
   "execution_count": 19,
   "metadata": {},
   "outputs": [
    {
     "name": "stdout",
     "output_type": "stream",
     "text": [
      "313/313 [==============================] - 2s 6ms/step - loss: 1.2594 - accuracy: 0.7018\n",
      "Test Accuracy: 70.18%\n"
     ]
    }
   ],
   "source": [
    "x, y = dataset.test_set()\n",
    "y = to_categorical(y, num_classes=num_classes)\n",
    "\n",
    "# 테스트 세트에 대한 분류 정확도를 계산합니다.\n",
    "_, accuracy = mnist_classifier.evaluate(x, y)\n",
    "print(\"Test Accuracy: %.2f%%\" % (100 * accuracy))"
   ]
  },
  {
   "cell_type": "code",
   "execution_count": null,
   "metadata": {},
   "outputs": [],
   "source": []
  },
  {
   "cell_type": "code",
   "execution_count": null,
   "metadata": {},
   "outputs": [],
   "source": []
  }
 ],
 "metadata": {
  "interpreter": {
   "hash": "c21ce6f18bb5619212f687f110d9d0f63e97a119774bed4b07764d94056094d3"
  },
  "kernelspec": {
   "display_name": "Python 3.7.11 ('Aiffel')",
   "language": "python",
   "name": "python3"
  },
  "language_info": {
   "codemirror_mode": {
    "name": "ipython",
    "version": 3
   },
   "file_extension": ".py",
   "mimetype": "text/x-python",
   "name": "python",
   "nbconvert_exporter": "python",
   "pygments_lexer": "ipython3",
   "version": "3.7.11"
  },
  "orig_nbformat": 4
 },
 "nbformat": 4,
 "nbformat_minor": 2
}
