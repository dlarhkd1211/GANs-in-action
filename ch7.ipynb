{
 "cells": [
  {
   "cell_type": "code",
   "execution_count": 1,
   "metadata": {},
   "outputs": [],
   "source": [
    "%matplotlib inline\n",
    "import matplotlib.pyplot as plt\n",
    "import numpy as np\n",
    "\n",
    "from tensorflow.keras import backend as K\n",
    "\n",
    "from tensorflow.keras.datasets import mnist\n",
    "from tensorflow.keras.layers import *\n",
    "from tensorflow.keras.models import Model, Sequential\n",
    "from tensorflow.keras.optimizers import Adam\n",
    "from tensorflow.keras.utils import to_categorical"
   ]
  },
  {
   "cell_type": "code",
   "execution_count": 2,
   "metadata": {},
   "outputs": [],
   "source": [
    "img_rows = 28\n",
    "img_cols = 28\n",
    "channels = 1\n",
    "\n",
    "img_shape = (img_rows, img_cols, channels)\n",
    "\n",
    "z_dims = 100\n",
    "num_classes = 10"
   ]
  },
  {
   "cell_type": "markdown",
   "metadata": {},
   "source": [
    "일부 데이터만 레이블을 사용하고 나머지는 레이블이 없는것으로 간주"
   ]
  },
  {
   "cell_type": "code",
   "execution_count": 5,
   "metadata": {},
   "outputs": [],
   "source": [
    "class Dataset:\n",
    "  def __init__(self,num_labeled):\n",
    "    self.num_labeled = num_labeled #훈련에 사용할 레이블된 샘플 개수\n",
    "    (self.x_train, self.y_train), (self.x_test, self.y_test) = mnist.load_data()\n",
    "\n",
    "    def preprocess_imgs(x):\n",
    "      x = (x.astype(np.float32) - 127.5) / 127.5\n",
    "      x = np.expand_dims(x,axis= 3)\n",
    "      return x\n",
    "\n",
    "    def preprocess_labels(y):\n",
    "      return y.reshape(-1, 1)\n",
    "\n",
    "    self.x_train = preprocess_imgs(self.x_train)\n",
    "    self.y_train = preprocess_labels(self.y_train)\n",
    "\n",
    "    self.x_test = preprocess_imgs(self.x_test)\n",
    "    self.y_test = preprocess_labels(self.y_test)\n",
    "\n",
    "  def batch_labeled(self, batch_size):\n",
    "    idx = np.random.randint(0, self.num_labeled, batch_size)\n",
    "    imgs = self.x_train[idx]\n",
    "    labels = self.y_train[idx]\n",
    "    return imgs, labels\n",
    "\n",
    "  def batch_unlabeled(self, batch_size):\n",
    "    idx = np.random.randint(self.num_labeled, self.x_train.shape[0], batch_size)\n",
    "    imgs = self.x_train[idx]\n",
    "\n",
    "    return imgs\n",
    "\n",
    "  def training_set(self):\n",
    "    x_train = self.x_train[range(self.num_labeled)]\n",
    "    y_train = self.y_train[range(self.num_labeled)]\n",
    "    return x_train, y_train\n",
    "\n",
    "  def test_set(self):\n",
    "    return self.x_test, self.y_test"
   ]
  },
  {
   "cell_type": "markdown",
   "metadata": {},
   "source": [
    "label된 이미지 100개만 사용"
   ]
  },
  {
   "cell_type": "code",
   "execution_count": 6,
   "metadata": {},
   "outputs": [],
   "source": [
    "num_labeled = 100\n",
    "\n",
    "dataset = Dataset(num_labeled)"
   ]
  },
  {
   "cell_type": "code",
   "execution_count": null,
   "metadata": {},
   "outputs": [],
   "source": []
  }
 ],
 "metadata": {
  "interpreter": {
   "hash": "ab6ef7d30b2307f9e5067df8dec7754da23bde4fe608b6506c24ecf96ad03ce6"
  },
  "kernelspec": {
   "display_name": "Python 3.7.13 ('gan')",
   "language": "python",
   "name": "python3"
  },
  "language_info": {
   "codemirror_mode": {
    "name": "ipython",
    "version": 3
   },
   "file_extension": ".py",
   "mimetype": "text/x-python",
   "name": "python",
   "nbconvert_exporter": "python",
   "pygments_lexer": "ipython3",
   "version": "3.7.13"
  },
  "orig_nbformat": 4
 },
 "nbformat": 4,
 "nbformat_minor": 2
}
